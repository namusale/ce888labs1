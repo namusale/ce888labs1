{
 "cells": [
  {
   "cell_type": "markdown",
   "metadata": {},
   "source": [
    "# CE888: Data Science and Decision Making Lab 1\n"
   ]
  },
  {
   "cell_type": "markdown",
   "metadata": {},
   "source": [
    "Over today's practice you'll learn:\n",
    "* to use JuPyter notebooks to quickly prototype code and show results\n",
    "* the numerical Python library\n",
    "\n",
    "This lab is divided in two parts. In each of them, you will have to fill in the gaps following the instructions given.\n",
    "The prompts for you to write code will look like this:"
   ]
  },
  {
   "cell_type": "code",
   "execution_count": null,
   "metadata": {
    "collapsed": true
   },
   "outputs": [],
   "source": [
    "#<------------INSERT CODE HERE------------>"
   ]
  },
  {
   "cell_type": "markdown",
   "metadata": {},
   "source": [
    "This might involve more than one line of code from you!\n",
    "\n",
    "Do **not** delete code from the notebook.\n",
    "\n",
    "Let's start!"
   ]
  },
  {
   "cell_type": "markdown",
   "metadata": {},
   "source": [
    "## Part 1\n",
    "\n",
    "In the first part of the lab we're going to check your Python skills and, in particular, we will ask you to create some functions to operate on vectors and matrices.\n",
    "\n"
   ]
  },
  {
   "cell_type": "markdown",
   "metadata": {},
   "source": [
    "### Operations with vectors"
   ]
  },
  {
   "cell_type": "code",
   "execution_count": 5,
   "metadata": {},
   "outputs": [
    {
     "name": "stdout",
     "output_type": "stream",
     "text": [
      "[1, 2, 4, 78, 93]\n",
      "The vector has 5 elements\n"
     ]
    }
   ],
   "source": [
    "# Let's create a vector. We can do this as a Python built-in type: the list\n",
    "vector1 = [1, 2, 4, 78, 93] # we declare the vector as a list of elements\n",
    "\n",
    "print(vector1)\n",
    "print(\"The vector has %d elements\" % len(vector1))"
   ]
  },
  {
   "cell_type": "code",
   "execution_count": 6,
   "metadata": {
    "collapsed": true
   },
   "outputs": [],
   "source": [
    "# Let's add a number to every element of the vector.\n",
    "## Exercise: create a function that, given a vector and a number,\n",
    "## returns the addition of that number to each element of the vector\n",
    "def vector_plus_num(vector, number):\n",
    "    \n",
    "    #<------------INSERT CODE HERE------------>\n",
    "    for i in range(0, len(vector)):\n",
    "        vector[i] = vector[i] + number\n",
    "    \n",
    "    return vector"
   ]
  },
  {
   "cell_type": "code",
   "execution_count": 7,
   "metadata": {},
   "outputs": [
    {
     "name": "stdout",
     "output_type": "stream",
     "text": [
      "[6, 7, 9, 83, 98]\n",
      "[-27, -26, -24, 50, 65]\n"
     ]
    }
   ],
   "source": [
    "# Let's test your function:\n",
    "print(vector_plus_num(vector1, 5))\n",
    "print(vector_plus_num(vector1, -33))"
   ]
  },
  {
   "cell_type": "markdown",
   "metadata": {},
   "source": [
    "What if we now wanted to mutiply a number and a vector? **Do not do it**, just think about what you'd need!"
   ]
  },
  {
   "cell_type": "markdown",
   "metadata": {},
   "source": [
    "And what if we want to calculate the mean value of your vector?"
   ]
  },
  {
   "cell_type": "code",
   "execution_count": 10,
   "metadata": {
    "collapsed": true
   },
   "outputs": [],
   "source": [
    "## Exercise: create a function that, given a vector,\n",
    "## returns the mean value of its elements.\n",
    "def vector_mean(vector):\n",
    "    \n",
    "    #<------------INSERT CODE HERE------------>\n",
    "    sum = 0\n",
    "    length = len(vector)\n",
    "    \n",
    "    for i in range(0, len(vector)):\n",
    "        sum = sum + vector[i]\n",
    "        \n",
    "    \n",
    "    mu = sum/length\n",
    "    return mu"
   ]
  },
  {
   "cell_type": "code",
   "execution_count": 12,
   "metadata": {},
   "outputs": [
    {
     "name": "stdout",
     "output_type": "stream",
     "text": [
      "3.5\n"
     ]
    }
   ],
   "source": [
    "# Now test your function:\n",
    "\n",
    "#<------------INSERT CODE HERE------------>\n",
    "vectora = [1,2,3,4,5,6]\n",
    "print(vector_mean(vectora))\n"
   ]
  },
  {
   "cell_type": "markdown",
   "metadata": {},
   "source": [
    "We will now work on operations between pairs of vectors."
   ]
  },
  {
   "cell_type": "code",
   "execution_count": 13,
   "metadata": {
    "collapsed": true
   },
   "outputs": [],
   "source": [
    "# Now let's create a new vector, called vector2, of the same length as vector1.\n",
    "# We will then look at operations with multiple vectors, \n",
    "# such as adding and subtracting them, and vector multiplications.\n",
    "vector2 = [1,2,3,4,5]\n",
    "#<------------INSERT CODE HERE------------>\n",
    "\n",
    "assert len(vector1) == len(vector2), \"The vectors are not of the same length\""
   ]
  },
  {
   "cell_type": "code",
   "execution_count": 19,
   "metadata": {},
   "outputs": [],
   "source": [
    "# Create a function that returns new vector of the same length as vector1 and vector2, \n",
    "# for which each element is the sum of the corresponding elements from vector1 and vector2.\n",
    "\n",
    "# Feel free to create a function to do this!\n",
    "\n",
    "def add_two_vectors(vec1, vec2):\n",
    "    #<------------INSERT CODE HERE------------>\n",
    "    sumVec = []\n",
    "    var = 0\n",
    "    for i in range(0, len(vec1)):\n",
    "        var = vec1[i] + vec2[i]\n",
    "        sumVec.append(str(var))\n",
    "        \n",
    "    return sumVec"
   ]
  },
  {
   "cell_type": "code",
   "execution_count": 22,
   "metadata": {},
   "outputs": [
    {
     "name": "stdout",
     "output_type": "stream",
     "text": [
      "['-26', '-24', '-21', '54', '70']\n"
     ]
    },
    {
     "ename": "IndexError",
     "evalue": "list index out of range",
     "output_type": "error",
     "traceback": [
      "\u001b[0;31m---------------------------------------------------------------------------\u001b[0m",
      "\u001b[0;31mIndexError\u001b[0m                                Traceback (most recent call last)",
      "\u001b[0;32m<ipython-input-22-531177dafd7e>\u001b[0m in \u001b[0;36m<module>\u001b[0;34m()\u001b[0m\n\u001b[1;32m      1\u001b[0m \u001b[0;31m# Let's test your function:\u001b[0m\u001b[0;34m\u001b[0m\u001b[0;34m\u001b[0m\u001b[0m\n\u001b[1;32m      2\u001b[0m \u001b[0mprint\u001b[0m\u001b[0;34m(\u001b[0m\u001b[0madd_two_vectors\u001b[0m\u001b[0;34m(\u001b[0m\u001b[0mvector1\u001b[0m\u001b[0;34m,\u001b[0m \u001b[0mvector2\u001b[0m\u001b[0;34m)\u001b[0m\u001b[0;34m)\u001b[0m\u001b[0;34m\u001b[0m\u001b[0m\n\u001b[0;32m----> 3\u001b[0;31m \u001b[0mprint\u001b[0m\u001b[0;34m(\u001b[0m\u001b[0madd_two_vectors\u001b[0m\u001b[0;34m(\u001b[0m\u001b[0mvector1\u001b[0m\u001b[0;34m,\u001b[0m \u001b[0;34m[\u001b[0m\u001b[0;36m1\u001b[0m\u001b[0;34m,\u001b[0m \u001b[0;36m2\u001b[0m\u001b[0;34m,\u001b[0m \u001b[0;36m3\u001b[0m\u001b[0;34m]\u001b[0m\u001b[0;34m)\u001b[0m\u001b[0;34m)\u001b[0m\u001b[0;34m\u001b[0m\u001b[0m\n\u001b[0m\u001b[1;32m      4\u001b[0m \u001b[0;31m# If the second print resulted in an error, don't worry about it for now!\u001b[0m\u001b[0;34m\u001b[0m\u001b[0;34m\u001b[0m\u001b[0m\n",
      "\u001b[0;32m<ipython-input-19-e8f5bdbcdb63>\u001b[0m in \u001b[0;36madd_two_vectors\u001b[0;34m(vec1, vec2)\u001b[0m\n\u001b[1;32m      9\u001b[0m     \u001b[0mvar\u001b[0m \u001b[0;34m=\u001b[0m \u001b[0;36m0\u001b[0m\u001b[0;34m\u001b[0m\u001b[0m\n\u001b[1;32m     10\u001b[0m     \u001b[0;32mfor\u001b[0m \u001b[0mi\u001b[0m \u001b[0;32min\u001b[0m \u001b[0mrange\u001b[0m\u001b[0;34m(\u001b[0m\u001b[0;36m0\u001b[0m\u001b[0;34m,\u001b[0m \u001b[0mlen\u001b[0m\u001b[0;34m(\u001b[0m\u001b[0mvec1\u001b[0m\u001b[0;34m)\u001b[0m\u001b[0;34m)\u001b[0m\u001b[0;34m:\u001b[0m\u001b[0;34m\u001b[0m\u001b[0m\n\u001b[0;32m---> 11\u001b[0;31m         \u001b[0mvar\u001b[0m \u001b[0;34m=\u001b[0m \u001b[0mvec1\u001b[0m\u001b[0;34m[\u001b[0m\u001b[0mi\u001b[0m\u001b[0;34m]\u001b[0m \u001b[0;34m+\u001b[0m \u001b[0mvec2\u001b[0m\u001b[0;34m[\u001b[0m\u001b[0mi\u001b[0m\u001b[0;34m]\u001b[0m\u001b[0;34m\u001b[0m\u001b[0m\n\u001b[0m\u001b[1;32m     12\u001b[0m         \u001b[0msumVec\u001b[0m\u001b[0;34m.\u001b[0m\u001b[0mappend\u001b[0m\u001b[0;34m(\u001b[0m\u001b[0mstr\u001b[0m\u001b[0;34m(\u001b[0m\u001b[0mvar\u001b[0m\u001b[0;34m)\u001b[0m\u001b[0;34m)\u001b[0m\u001b[0;34m\u001b[0m\u001b[0m\n\u001b[1;32m     13\u001b[0m \u001b[0;34m\u001b[0m\u001b[0m\n",
      "\u001b[0;31mIndexError\u001b[0m: list index out of range"
     ]
    }
   ],
   "source": [
    "# Let's test your function:\n",
    "print(add_two_vectors(vector1, vector2))\n",
    "print(add_two_vectors(vector1, [1, 2, 3]))\n",
    "# If the second print resulted in an error, don't worry about it for now!"
   ]
  },
  {
   "cell_type": "markdown",
   "metadata": {},
   "source": [
    "How about the multiplication of vectors?\n",
    "There are two types of vector multiplications:\n",
    "* The dot product (or scalar product) takes two vectors and returns a scalar.\n",
    "* The cross product (or vector product) takes two vectors and returns another vector."
   ]
  },
  {
   "cell_type": "markdown",
   "metadata": {},
   "source": [
    "Now let's create a function that returns the scalar product of two vectors.\n",
    "\n",
    "This can be done by multiplying pairs of elements and adding the result:\n",
    "\n",
    "A = [A1, A2, A3, ..., An]\n",
    "\n",
    "B = [B1, B2, B3, ..., Bn]\n",
    "\n",
    "A · B = A1·B1 + A2·B2 + ... An·Bn"
   ]
  },
  {
   "cell_type": "code",
   "execution_count": 23,
   "metadata": {
    "collapsed": true
   },
   "outputs": [],
   "source": [
    "def scalar_product(v1, v2):\n",
    "    #<------------INSERT CODE HERE------------>\n",
    "    scalarProduct = 0\n",
    "    for i in range(0,len(v1)):\n",
    "        scalarProduct = scalarProduct + v1[i]*v2[i]\n",
    "        \n",
    "    return scalarProduct"
   ]
  },
  {
   "cell_type": "code",
   "execution_count": 25,
   "metadata": {},
   "outputs": [
    {
     "name": "stdout",
     "output_type": "stream",
     "text": [
      "57\n"
     ]
    }
   ],
   "source": [
    "# Test your function\n",
    "\n",
    "#<------------INSERT CODE HERE------------>\n",
    "vectorb = [1,2,3,4]\n",
    "vectorc = [2,4,5,8]\n",
    "print(scalar_product(vectorb, vectorc))"
   ]
  },
  {
   "cell_type": "markdown",
   "metadata": {},
   "source": [
    "### Operations with matrices\n",
    "\n",
    "Again, there are multiple things we can do with matrices. For example, adding/subtracting/multiplying a number to each element of a matrix and matrix multiplication.\n",
    "\n",
    "We're going to attempt the last one only."
   ]
  },
  {
   "cell_type": "code",
   "execution_count": null,
   "metadata": {
    "collapsed": true
   },
   "outputs": [],
   "source": [
    "# Create a function that receives two matrices as input and returns the matrix multiplication of the two\n",
    "# If you don't know how to multiply two matrices, check:\n",
    "# https://en.wikipedia.org/wiki/Matrix_multiplication#Definition\n",
    "\n",
    "def matrix_multiplication(matrix1, matrix2):\n",
    "    \n",
    "    #<------------INSERT CODE HERE------------>\n",
    "    \n",
    "    return multipl_result"
   ]
  },
  {
   "cell_type": "code",
   "execution_count": 34,
   "metadata": {
    "collapsed": true
   },
   "outputs": [],
   "source": [
    "# And let's test your function:\n",
    "# NOTE: some of the tests below will give errors. Don't worry about them!\n",
    "matrixA = [[1, 2, 3], [1, 2, 3]]\n",
    "matrixB = [[5, 6, 7], [5, 6, 7], [5, 6, 7]]\n",
    "matrixC = [[8, 9], [8, 9], [8, 9], [8, 9]]\n",
    "matrixD = [[10, 11], [10, 11], [10, 11]]"
   ]
  },
  {
   "cell_type": "code",
   "execution_count": null,
   "metadata": {
    "collapsed": true
   },
   "outputs": [],
   "source": [
    "print(matrix_multiplication(matrixA, matrixB))"
   ]
  },
  {
   "cell_type": "code",
   "execution_count": null,
   "metadata": {
    "collapsed": true
   },
   "outputs": [],
   "source": [
    "print(matrix_multiplication(matrixA, matrixC))"
   ]
  },
  {
   "cell_type": "code",
   "execution_count": null,
   "metadata": {
    "collapsed": true
   },
   "outputs": [],
   "source": [
    "print(matrix_multiplication(matrixD, matrixA))"
   ]
  },
  {
   "cell_type": "markdown",
   "metadata": {},
   "source": [
    "Hopefully this has convinced you that operating with vectors and matrices like this is not the best way.\n",
    "Now we will turn to the second part of this lab, in which you will be introduced to the numerical Python library, *numpy*."
   ]
  },
  {
   "cell_type": "markdown",
   "metadata": {},
   "source": [
    "## Part 2: Numpy\n"
   ]
  },
  {
   "cell_type": "markdown",
   "metadata": {},
   "source": [
    "Numpy has a built-in type called the *ndarray*. "
   ]
  },
  {
   "cell_type": "code",
   "execution_count": 26,
   "metadata": {
    "collapsed": true
   },
   "outputs": [],
   "source": [
    "import numpy as np # Importing convention for Numpy"
   ]
  },
  {
   "cell_type": "markdown",
   "metadata": {},
   "source": [
    "#### Creating and manipulating arrays"
   ]
  },
  {
   "cell_type": "code",
   "execution_count": 35,
   "metadata": {},
   "outputs": [
    {
     "name": "stdout",
     "output_type": "stream",
     "text": [
      "[ 1.  2.  3.]\n",
      "float32\n",
      "[ 1.+2.j  3.-4.j]\n",
      "complex64\n",
      "[False  True  True]\n",
      "bool\n",
      "[[1 2 3]\n",
      " [1 2 3]]\n",
      "int64\n",
      "(2, 3)\n",
      "[1 2 3 4 5]\n",
      "int64\n",
      "(5,)\n"
     ]
    }
   ],
   "source": [
    "# Create arrays with a specified data type\n",
    "\n",
    "arr = np.array([1, 2, 3], dtype=np.float32)\n",
    "print(arr)\n",
    "print(arr.dtype)\n",
    "\n",
    "arr = np.array([1+2j, 3-4j], dtype=np.complex64)  # an array of complex numbers\n",
    "print(arr)\n",
    "print(arr.dtype)\n",
    "\n",
    "arr = np.array([0, 1, 1], dtype=np.bool)  # an array of True/False values\n",
    "print(arr)\n",
    "print(arr.dtype)\n",
    "\n",
    "# We can also create arrays from the vectors and matrices we had before.\n",
    "arr = np.array(matrixA)\n",
    "print(arr)\n",
    "print(arr.dtype)\n",
    "print(arr.shape)\n",
    "\n",
    "arr = np.array(vector2)\n",
    "print(arr)\n",
    "print(arr.dtype)\n",
    "print(arr.shape)\n"
   ]
  },
  {
   "cell_type": "code",
   "execution_count": 36,
   "metadata": {},
   "outputs": [
    {
     "name": "stdout",
     "output_type": "stream",
     "text": [
      "[0 1 2 3 4 5 6 7 8 9]\n",
      "shape: (10,)\n",
      "dtype: int64\n",
      "dim: 1\n",
      "itemsize: 8\n"
     ]
    }
   ],
   "source": [
    "arr_range2 = np.arange(10)\n",
    "print(arr_range2)\n",
    "\n",
    "# Retrieving information on the array\n",
    "print(\"shape:\", arr_range2.shape)\n",
    "print(\"dtype:\", arr_range2.dtype)\n",
    "print(\"dim:\", arr_range2.ndim)\n",
    "print(\"itemsize:\", arr_range2.itemsize)"
   ]
  },
  {
   "cell_type": "code",
   "execution_count": 37,
   "metadata": {},
   "outputs": [
    {
     "name": "stdout",
     "output_type": "stream",
     "text": [
      "[ 0  5 10 15 20 25 30 35 40 45 50 55 60 65 70 75 80 85 90 95]\n",
      "[  0.           0.52631579   1.05263158   1.57894737   2.10526316\n",
      "   2.63157895   3.15789474   3.68421053   4.21052632   4.73684211\n",
      "   5.26315789   5.78947368   6.31578947   6.84210526   7.36842105\n",
      "   7.89473684   8.42105263   8.94736842   9.47368421  10.        ]\n"
     ]
    }
   ],
   "source": [
    "# We can use the np.arange function to create a range of values:\n",
    "arr = np.arange(0, 100, 5) #np.arange(start, stop, pace)\n",
    "print(arr)\n",
    "# Note: is the last value (100) included?\n",
    "\n",
    "# Similarly, we can use np.linspace:\n",
    "# np.linspace(start, stop, num_of_elements, endpoint=True) \n",
    "arr = np.linspace(0, 10, 20)\n",
    "print(arr)\n",
    "# Note: is the last value (10) included now?"
   ]
  },
  {
   "cell_type": "code",
   "execution_count": 38,
   "metadata": {},
   "outputs": [
    {
     "name": "stdout",
     "output_type": "stream",
     "text": [
      "[[ 1.5  2.   3. ]\n",
      " [ 4.   5.   6. ]]\n",
      "(2, 3)\n"
     ]
    }
   ],
   "source": [
    "arr_2d = np.array([(1.5, 2, 3), (4, 5, 6)]) # creating an array from a list of tuples\n",
    "print(arr_2d)\n",
    "print(arr_2d.shape)"
   ]
  },
  {
   "cell_type": "code",
   "execution_count": 39,
   "metadata": {},
   "outputs": [
    {
     "name": "stdout",
     "output_type": "stream",
     "text": [
      "arr_2d[0,0] : 1.5\n",
      "arr_2d[0,:] :  [ 1.5  2.   3. ]\n",
      "arr_2d[:,0] : [ 1.5  4. ]\n",
      "[ 3.  4.  5.  6.]\n"
     ]
    }
   ],
   "source": [
    "# Slicing (i.e., accessing specific elements of the array)\n",
    "\n",
    "print(\"arr_2d[0,0] :\", arr_2d[0, 0])\n",
    "print(\"arr_2d[0,:] : \", arr_2d[0, :])\n",
    "print(\"arr_2d[:,0] :\", arr_2d[:, 0])\n",
    "\n",
    "print(arr_2d[arr_2d > 2])"
   ]
  },
  {
   "cell_type": "code",
   "execution_count": 44,
   "metadata": {},
   "outputs": [
    {
     "name": "stdout",
     "output_type": "stream",
     "text": [
      "[[ 0.  0.  0.  0.  0.  0.  0.  0.  0.  0.]\n",
      " [ 0.  0.  0.  0.  0.  0.  0.  0.  0.  0.]\n",
      " [ 0.  0.  0.  0.  0.  0.  0.  0.  0.  0.]\n",
      " [ 0.  0.  0.  0.  0.  0.  0.  0.  0.  0.]\n",
      " [ 0.  0.  0.  0.  0.  0.  0.  0.  0.  0.]\n",
      " [ 0.  0.  0.  0.  0.  0.  0.  0.  0.  0.]\n",
      " [ 0.  0.  0.  0.  0.  0.  0.  0.  0.  0.]\n",
      " [ 0.  0.  0.  0.  0.  0.  0.  0.  0.  0.]\n",
      " [ 0.  0.  0.  0.  0.  0.  0.  0.  0.  0.]\n",
      " [ 0.  0.  0.  0.  0.  0.  0.  0.  0.  0.]]\n",
      "(10, 10)\n",
      "[[ 1.  1.  1.  1.]\n",
      " [ 1.  1.  1.  1.]\n",
      " [ 1.  1.  1.  1.]\n",
      " [ 1.  1.  1.  1.]]\n",
      "(4, 4)\n",
      "[[ 1.  1.  1.  1.  1.  1.  1.  1.]\n",
      " [ 1.  1.  1.  1.  1.  1.  1.  1.]]\n",
      "(4, 4)\n"
     ]
    }
   ],
   "source": [
    "# Other types of arrays\n",
    "\n",
    "zeros = np.zeros((10, 10))\n",
    "print(zeros)\n",
    "# print the shape of zeros\n",
    "#<------------INSERT CODE HERE------------>\n",
    "print(zeros.shape)\n",
    "\n",
    "ones = np.ones((4, 4))\n",
    "print(ones)\n",
    "# print the shape of ones\n",
    "#<------------INSERT CODE HERE------------>\n",
    "print(ones.shape)\n",
    "\n",
    "print(ones.reshape(2, 8))\n",
    "# print the shape of ones\n",
    "#<------------INSERT CODE HERE------------>\n",
    "\n",
    "print(ones.shape)"
   ]
  },
  {
   "cell_type": "code",
   "execution_count": 52,
   "metadata": {},
   "outputs": [
    {
     "name": "stdout",
     "output_type": "stream",
     "text": [
      "[[  6.68375445e-02   1.02947012e+00   7.74732171e-01   2.74931580e-01\n",
      "   -9.14072373e-01  -7.53584167e-01  -4.51636928e-01  -2.59664983e-01\n",
      "   -3.61857276e-01  -9.50370424e-01   7.24217530e-01  -2.14507895e-01\n",
      "   -1.67350225e-01  -5.67394318e-01   7.85729440e-01  -1.12467894e+00\n",
      "    4.93827475e-01  -6.18794267e-02   2.41003588e-01  -4.32976700e-01\n",
      "   -1.15900545e+00  -1.06367961e-01  -2.03227244e-01   2.53511068e-01\n",
      "   -1.64557967e-01   3.85948984e-01   1.45035678e+00   5.10359607e-01\n",
      "   -1.40313001e+00   8.18783279e-02   4.26295640e-02   1.28718653e+00\n",
      "    1.93876814e-01  -1.19355695e+00  -3.83254861e-01   8.47720162e-01\n",
      "   -7.79020593e-01   1.80719975e+00   8.04078105e-01   1.38118878e+00\n",
      "    1.00440958e+00   1.04900570e-01  -3.38954113e-01  -5.33371660e-01\n",
      "    1.98194766e+00   5.37569802e-01  -1.17257075e+00  -1.04241745e+00\n",
      "    1.72248196e-01  -4.40822029e-01   2.58663668e-01   5.91505968e-01\n",
      "    1.52565477e+00  -9.39566762e-01   6.02502412e-01  -5.83582032e-01\n",
      "   -9.42045631e-01  -1.08084374e-03  -7.19981747e-01   2.31971424e-01\n",
      "   -1.35262833e+00   3.15914428e-01   1.43280956e+00   4.77262167e-01\n",
      "   -1.95197542e+00  -4.05335359e-01  -3.69695148e-01   6.79830559e-01\n",
      "    1.25095500e+00   4.62474648e-01   4.03478993e-01  -6.44258902e-01\n",
      "    2.74317051e+00   1.39143032e+00   7.38994008e-01  -1.27156043e+00\n",
      "    1.02389606e+00   1.81955564e+00   5.46304820e-01  -6.96663972e-01\n",
      "    8.05242273e-01  -4.53443142e-01  -5.09500586e-02   1.28321957e-02\n",
      "   -1.13582502e+00   5.14832721e-01   1.51479738e-01  -1.44159699e-02\n",
      "    9.39110605e-01   3.51607944e-01  -2.05218970e+00   1.75505261e+00\n",
      "   -5.45763229e-01  -3.91566862e-01   7.82689441e-01  -1.87545127e+00\n",
      "   -1.15215745e+00  -3.25838622e-01   4.00985945e-01  -3.87417663e-01\n",
      "   -5.12489665e-01   5.36779472e-01   7.67085553e-02  -2.02945474e-01\n",
      "   -1.98763394e+00   2.04623556e-01   1.57027687e+00  -1.12507759e-01\n",
      "    8.43283404e-01   1.34749577e+00   9.14580987e-02  -2.62134241e-01\n",
      "   -2.83903818e-01   9.32893111e-02   4.94150658e-01   8.31187240e-01\n",
      "    1.10315131e+00  -8.98935241e-01   1.67455067e+00  -8.03649718e-01\n",
      "    4.06654472e-01  -7.06010157e-01  -2.33541515e-01  -1.40244710e-01\n",
      "   -1.40975525e+00   1.30862130e+00   1.41098935e-01  -5.56494362e-01\n",
      "   -9.89056071e-01   1.43813287e+00  -2.97289419e-01  -6.49658116e-02\n",
      "   -8.67747609e-01  -3.77010613e-01   7.76676633e-01  -7.10248729e-01\n",
      "   -1.40443100e+00   6.42092566e-02  -6.37219659e-01   1.42998345e+00\n",
      "    6.12614118e-01  -1.29519398e+00   7.23200116e-01  -3.19596599e-01\n",
      "   -1.18654533e+00   3.34672604e-01   1.92643714e-01  -2.31389503e-01\n",
      "   -8.22268390e-02   2.59258015e-01  -8.52397221e-01  -2.66114623e-01\n",
      "   -4.63514290e-01  -5.22006081e-01  -1.90022222e+00   1.60727263e+00\n",
      "    2.11450515e-01   1.60739643e-02  -1.03239096e+00   1.07887371e+00\n",
      "   -4.12203431e-01  -1.13353017e-01  -1.03192500e-01   3.33383219e-01\n",
      "    1.17777662e+00   1.77771489e+00   6.47513704e-02  -4.97963413e-01\n",
      "   -1.10049355e+00  -8.55907574e-01  -2.57208176e-01  -4.74686798e-01\n",
      "   -9.06043516e-01   3.05643056e-01   1.13277722e+00  -1.43653988e+00\n",
      "    9.36886868e-02  -4.79594254e-01   4.21082192e-01   1.75667742e-01\n",
      "    1.04413426e+00   2.36367156e-01  -5.75423104e-01  -6.07385495e-01\n",
      "   -1.08602337e+00  -4.61408712e-01  -4.52396676e-02   1.97869002e-01\n",
      "   -2.02654205e-01  -9.07475561e-01  -4.26216301e-01  -6.56153378e-01\n",
      "    2.80333769e-01   1.75316563e+00   4.22943762e-01  -2.96744752e-01\n",
      "   -1.55929431e+00  -2.11720335e-01   9.42997500e-01   1.26300036e+00\n",
      "    8.64299567e-01   4.61355108e-01   9.70127782e-01   7.69413341e-01\n",
      "   -1.88434444e-01  -4.53973304e-01  -1.26684098e-01  -4.57675322e-01\n",
      "   -1.53920306e-01   1.04765504e+00   1.08311111e-01   8.29767145e-01\n",
      "   -1.01755928e-01   1.79340516e+00  -1.43460876e+00  -1.45146846e+00\n",
      "   -1.90968151e-01  -4.13576761e-01   8.72527371e-01  -9.87303506e-01\n",
      "    2.58285684e-01   2.72348417e+00  -1.33696601e-01   1.17043770e-01\n",
      "    1.45491977e+00   1.52643621e+00  -1.55404178e+00   3.46730349e-01\n",
      "   -5.35284156e-01   4.73721603e-01  -1.15628606e+00   4.34672432e-01\n",
      "   -1.97276035e+00   6.30612360e-01   2.93235327e-01   1.07052281e+00\n",
      "    9.66586519e-02  -1.54364339e+00   1.00711764e+00  -2.41141595e-01\n",
      "   -5.11014930e-01   1.86684732e+00  -5.08222336e-01   1.09675956e+00\n",
      "   -9.06307957e-01   2.96186463e-01   3.62596670e-01   2.72554325e+00\n",
      "    1.61827411e+00   1.02750356e+00  -3.79556268e-01   5.06155931e-01\n",
      "    6.68142305e-01  -5.93438184e-01  -5.43960405e-01   1.35701547e-01\n",
      "   -9.53064359e-02  -1.60144193e-01  -8.16819425e-01   1.28868035e+00\n",
      "   -1.17400807e+00   6.82753141e-01   1.64111856e+00  -2.56424481e-01\n",
      "   -1.23001008e+00  -7.18142359e-01   2.04801738e-01   1.67774749e-01\n",
      "   -2.87964022e+00  -7.97609603e-01   5.37073688e-01   1.85862503e-01\n",
      "   -1.27804157e+00  -5.08111140e-01   2.76088207e+00  -7.43631892e-01\n",
      "    7.88232944e-01  -2.31363519e-01  -8.27048115e-01  -9.08566531e-01\n",
      "   -8.73390753e-01  -1.59783431e-01  -9.93591393e-02  -1.20162482e-01\n",
      "   -3.07698860e-01   1.60517526e+00   2.35265870e-01  -3.93163370e-01\n",
      "    7.88361667e-01  -9.13134007e-02  -7.53430422e-01  -3.82591052e-02\n",
      "    2.42870459e+00  -5.69084159e-01  -1.83441305e-03   3.52910498e-03\n",
      "   -1.09759644e+00   1.38438910e+00   5.37388474e-01  -2.95244793e+00\n",
      "   -6.68219271e-01   8.40663468e-01  -1.26744818e+00   2.72045569e+00\n",
      "    1.72704077e+00   5.40633613e-01  -3.13472374e-01  -2.20960687e-01\n",
      "   -3.58857595e-01   2.89239757e-01  -3.64107820e-01  -8.24582996e-01\n",
      "    4.94330845e-01   1.33407608e+00  -4.18196319e-01  -3.96943270e-01\n",
      "    3.23984808e-01   3.33310861e-01  -2.71573886e-01   4.51944214e-01\n",
      "    7.55558739e-01   1.74341492e+00  -1.28019764e-01   7.62337827e-01\n",
      "    1.98580257e-01   1.08161292e+00   1.30527630e+00  -1.93535711e-01\n",
      "    3.54383575e-01  -1.30800595e-01   7.92383381e-01   1.21272187e+00\n",
      "   -9.53719444e-01   9.11748530e-01  -2.28142121e-01   7.50515433e-01\n",
      "   -7.84525465e-01   3.02854288e-01  -4.87539224e-01  -1.47802676e-01\n",
      "   -2.68735178e-01  -9.18563379e-01   1.23919599e+00   2.63779395e+00\n",
      "   -6.27155595e-01  -2.41107614e-01   6.40583033e-01  -1.79729531e+00\n",
      "    3.74049741e-02   2.58665595e-02   1.08935727e+00   1.45926148e-01\n",
      "    1.17450798e+00   7.42302171e-02   1.19880918e-01  -8.69794541e-01\n",
      "   -1.09108744e+00  -9.00964950e-01   6.40118780e-02  -4.78070220e-01\n",
      "   -9.79961545e-02  -5.87556112e-01  -1.66346155e-01   1.59778477e-01\n",
      "   -6.36215202e-01  -1.11079537e-01   2.27319368e+00  -6.01468468e-01\n",
      "   -8.18141699e-01   5.78658308e-01   2.03679583e-01   8.27234018e-01\n",
      "    1.61191430e-01  -1.98447945e-01   1.18937967e+00  -1.81266468e+00\n",
      "    8.77150693e-01  -9.08856168e-01  -5.27654530e-01  -9.29764605e-02\n",
      "    7.25071703e-01   4.60348322e-01  -7.78716041e-01  -1.86446809e+00\n",
      "   -1.93049940e+00   8.46557033e-01  -6.58086575e-01  -9.53458862e-01\n",
      "    9.30383255e-01   5.31705972e-01   7.67286882e-01   9.55354303e-01\n",
      "    5.39780498e-01   5.21748917e-01  -1.18570704e+00  -1.10567385e+00\n",
      "    1.56631785e+00   6.80103626e-01   7.52089100e-01   8.34568684e-01\n",
      "    9.51305134e-02  -1.09418347e+00   9.99663421e-01  -6.26808276e-01\n",
      "    1.41307392e+00   2.90017257e-01  -3.80930775e-01  -1.52359415e+00\n",
      "   -2.27922124e+00  -1.08777658e+00  -3.76238973e-02  -7.74714137e-01\n",
      "   -2.64589178e-01   1.42402644e+00   9.23586570e-01   7.13529592e-01\n",
      "   -1.26917519e-01  -1.07902560e+00   7.77967374e-01  -1.34310912e+00\n",
      "   -1.12098956e-01   7.69229057e-01  -6.67859699e-01  -6.18997617e-01\n",
      "   -4.89373448e-01  -2.00012093e-01  -7.92774776e-01   6.56048780e-01\n",
      "   -9.04921651e-02  -4.52712441e-02  -9.09195809e-01   2.22262864e+00\n",
      "    3.07380989e-01  -1.44556897e-01   1.44986987e+00   2.24110033e-01\n",
      "   -8.74683306e-01  -1.68579665e+00   5.31060155e-01   1.90166225e-01\n",
      "   -3.75157403e-01  -9.43205164e-01  -5.95632987e-01   1.24984931e-01\n",
      "   -1.64766257e+00  -1.47423677e+00  -5.42705017e-01  -1.03790150e+00\n",
      "    2.07277980e-01  -1.15487727e+00   1.57728855e+00   8.38043487e-01\n",
      "   -1.17096263e+00  -1.22289007e+00  -1.03413859e+00   4.72124919e-01\n",
      "   -7.84072775e-02  -5.52366733e-01  -1.77231495e+00   1.50336984e+00\n",
      "    2.18033829e-01   8.79816218e-01   1.57789964e+00  -6.41746231e-01\n",
      "   -8.37291419e-01  -1.26018157e+00   5.00382477e-01  -5.01385447e-01\n",
      "    5.51282032e-01   1.28952048e-01  -1.33249874e+00  -1.19241569e+00\n",
      "   -2.08625281e+00   1.31943735e+00  -8.29365153e-02  -1.30988466e+00\n",
      "    5.16586294e-01   1.91276889e+00   7.83325607e-01   1.29045053e+00\n",
      "   -7.99038286e-01  -2.36767971e+00  -1.07631022e+00  -6.80000337e-01\n",
      "    1.11381626e+00  -6.09124805e-01  -1.31199203e-01   3.80070445e-01\n",
      "   -7.56536711e-01  -1.94224052e-01  -7.39634545e-02  -3.20530733e-01\n",
      "    4.94493503e-01   5.14757100e-01  -3.50411968e-02  -9.56686484e-01\n",
      "    8.55347406e-01   2.99477014e-01  -4.68318037e-01   3.64409929e-01\n",
      "   -1.21024118e+00  -1.88382205e+00   9.43742181e-01   1.30750569e+00\n",
      "    1.32324005e+00   1.53401882e-01   1.19588383e+00  -2.55614475e-02\n",
      "    5.53914824e-02  -9.32645533e-03  -8.96027324e-01  -3.85203577e-01\n",
      "    1.08839314e-01  -8.97770904e-01   5.89883817e-01  -1.26364763e+00\n",
      "   -6.51360608e-01   2.17275648e-01  -2.94338086e-01   6.43814419e-01\n",
      "   -1.58741722e+00   2.11541842e-01   1.26649022e+00   5.53113173e-02\n",
      "    1.74843502e+00   7.44669911e-01   7.23427096e-01   4.37204793e-01\n",
      "   -1.28029225e+00   8.93573589e-01  -3.49001557e-01  -1.15815539e+00\n",
      "    2.19210328e-01   2.62369572e-02   2.37246761e-02  -7.76036137e-01\n",
      "    1.75365773e+00   4.44934545e-01   6.94851452e-01  -3.13833839e-01\n",
      "    1.00226584e+00   3.76232557e-02  -4.61104255e-01  -1.98954295e-01\n",
      "    2.08920067e+00  -1.69567845e+00  -4.66975103e-03   6.50119320e-02\n",
      "   -4.23919148e-01  -6.57539085e-01   5.54618274e-02  -8.01873668e-02\n",
      "   -1.39879084e+00   2.45594743e+00  -3.86880294e-01   1.66303975e-01\n",
      "    1.37504416e+00  -2.21843714e-01   7.32243221e-01   8.12020701e-01\n",
      "    1.11694436e+00   1.25105085e+00  -3.05362101e+00  -7.42716666e-02\n",
      "   -2.01052036e-01  -1.70037663e+00   3.64439368e-02  -2.29186935e-01\n",
      "    1.40500373e-01   2.57663972e+00   2.94923790e-01   5.29016406e-01\n",
      "    1.33628414e+00  -8.85039081e-01  -4.06088709e-01   3.52309855e-01\n",
      "   -9.12318842e-01  -1.45984441e-01   2.03418335e+00   1.39230676e+00\n",
      "   -1.10724312e+00   1.21056566e+00   5.27803137e-01   4.55442376e-02\n",
      "   -8.07027393e-01   3.83642140e-01  -2.03210795e+00   2.77496303e-01\n",
      "   -1.26438479e+00   4.90024830e-01   3.38616716e-01  -1.48122725e-01\n",
      "    9.36495494e-01   9.57521044e-01   2.02638042e+00  -4.59468037e-01\n",
      "   -3.78786160e-01  -4.10638177e-01  -2.16197959e-01   4.30692852e-01\n",
      "   -6.42926403e-01   1.69187494e+00   5.35275208e-01  -1.58811053e+00\n",
      "   -3.43848374e-01   1.96562969e+00  -9.34901827e-02  -1.24597017e+00\n",
      "   -5.83860086e-01  -6.72598386e-03  -3.79493752e-03   8.84880088e-01\n",
      "    1.01124005e+00  -3.09907729e-01   4.09851189e-01   1.80583363e+00\n",
      "    1.26777085e-01  -8.32731645e-02   5.45980311e-01   2.96925303e-01\n",
      "   -1.16271584e+00  -1.09480256e+00  -1.29727122e-01   1.07235359e-01\n",
      "   -2.22700310e-01   1.02480459e+00   2.29626939e-01  -2.46813331e-01\n",
      "   -1.29487797e-01   8.16742715e-01  -6.43281699e-01   1.45725628e+00\n",
      "   -1.53927299e+00  -1.08799663e+00  -1.45266432e-01  -7.09129793e-01\n",
      "    2.37070862e-01   5.61062024e-01  -1.61617858e+00  -2.28677319e-01\n",
      "    1.24743827e+00   4.64544988e-01  -1.35905899e+00  -5.14745918e-01\n",
      "    1.04231050e+00  -6.18672423e-01   1.83134327e-01  -1.09259045e-01\n",
      "   -5.75533384e-01  -2.17254082e+00  -5.33190864e-02  -1.19112813e+00\n",
      "    3.55988595e-01  -1.14723024e+00  -1.50941421e-01   1.71591689e+00\n",
      "    1.29698195e+00  -1.11364653e+00  -1.47137088e-01  -8.69758588e-02\n",
      "    1.85647197e+00   1.42279054e-01   4.03199497e-01  -1.27181231e-01\n",
      "    9.81625062e-01   2.97039909e-01  -4.52545004e-01   6.26278608e-01\n",
      "   -1.68974998e+00  -5.59845456e-01   1.62708427e+00   1.99655424e-01\n",
      "    1.51914093e+00   3.83950594e-01   2.25502266e+00  -2.15501348e-01\n",
      "    4.67691295e-01  -4.42181044e-01   2.41165544e-01   2.12329025e-01\n",
      "    5.92822246e-01   2.40216322e+00   8.21716472e-01  -1.50860860e+00\n",
      "    7.98597758e-01  -6.55282597e-01  -5.35963607e-01   5.55295202e-01\n",
      "    4.79198962e-01  -2.25883548e+00   2.36664333e+00   4.65872637e-01\n",
      "    2.17572982e-01  -3.45295052e-01  -4.11089528e-01   3.34932999e-01\n",
      "   -9.84647181e-02   1.46012687e+00  -1.63299980e+00  -1.86673711e+00\n",
      "    6.72219197e-01   1.90582378e-01   2.43868100e-01  -5.20934197e-01\n",
      "   -1.47180026e-01  -8.66892668e-01  -3.64601218e-01  -6.99102054e-01\n",
      "   -1.21212219e+00   6.22856265e-01   6.16478852e-02  -1.82439422e+00\n",
      "    5.39176904e-01   1.81890768e+00  -5.88902774e-01   1.50371694e+00\n",
      "   -5.83341302e-01   2.13022738e-01   1.16540735e+00  -4.16931914e-01\n",
      "   -1.05365308e+00   8.45541684e-01  -1.00005578e+00   4.55457825e-02\n",
      "    3.97628352e-01  -4.11756172e-01  -1.21450154e+00  -2.39921929e-01\n",
      "   -2.52788270e-01  -4.00984716e-01  -9.66433559e-01   2.21282609e+00\n",
      "    6.95516993e-02  -8.62176087e-01   1.11578577e+00  -6.68937997e-01\n",
      "   -2.00313573e+00   9.87808095e-02  -3.09642492e-01   5.44207946e-01\n",
      "   -3.68328694e-02   1.77376935e-01  -4.98748424e-01  -1.31118102e+00\n",
      "   -7.61451702e-01  -1.62248083e-01   1.13321939e+00  -6.58477371e-01\n",
      "   -1.03184844e+00   1.31602529e+00  -5.83747112e-01  -1.33657060e+00\n",
      "   -5.35602343e-01  -1.62653455e-01   2.27578377e-01  -4.80160092e-01\n",
      "    2.18919364e-01  -3.40053193e-01  -7.72480094e-02   6.26658940e-01\n",
      "    1.08044293e+00   7.74269289e-01  -1.84284824e-02  -2.74552260e+00\n",
      "    1.99627305e+00   8.53923206e-02   2.74494939e-01  -1.60166667e+00\n",
      "    4.12438885e-01  -1.35322150e-01   3.81636250e-01  -1.35167577e+00\n",
      "    3.88650179e-01  -1.68386775e-01   1.75355313e+00   1.91933106e+00\n",
      "   -4.07073667e-01  -8.43289539e-02  -1.26951534e+00  -1.03075820e-01\n",
      "   -7.53410739e-01   1.91548333e+00  -6.63096142e-01  -2.19557186e+00\n",
      "   -2.89504588e-01  -1.22967161e+00   7.17825183e-01   1.00203531e+00\n",
      "    8.74991043e-01  -6.52351021e-01  -3.54392554e-01   1.97939797e+00\n",
      "    1.53809652e-01   7.82399986e-01   2.01969793e+00  -2.15173853e+00\n",
      "   -4.68480389e-01   3.67519287e-01   1.37277141e+00  -6.97097925e-01\n",
      "   -7.46876936e-01  -1.36596295e+00  -1.44370573e-01   1.32049677e-01\n",
      "   -3.42668805e-01  -1.96097702e-01  -9.40866034e-01   1.99217875e+00\n",
      "    9.47579705e-01   2.53857680e-02  -7.29378012e-01   6.81430592e-01\n",
      "    3.79604608e-01   1.02113557e+00   9.55138596e-01   2.08266570e-01\n",
      "   -1.51984711e+00  -5.00567211e-02   4.49861993e-01   5.58127040e-01\n",
      "    4.83605619e-01   1.80215853e+00  -2.84111246e-01   1.33594022e+00\n",
      "    9.76934520e-01  -1.80140103e+00  -9.22014681e-01   1.31618906e-01\n",
      "   -9.52666481e-01   2.18834037e+00   4.60606655e-01  -3.94316093e-01\n",
      "    1.03423695e+00  -3.52964186e-01   9.90057406e-01  -2.67795611e-01\n",
      "   -7.34062675e-01  -3.52453967e-01  -1.19775322e+00  -1.20616549e+00\n",
      "    1.91180986e+00  -2.87404835e-01  -1.46942778e-01  -5.63703004e-01\n",
      "    5.82407628e-01   1.02220362e+00   6.21617770e-02   1.35008122e+00\n",
      "   -2.18418487e+00   4.46420015e-01  -3.05885942e-01   1.26753215e+00\n",
      "   -2.02717736e-01  -5.08142278e-01  -3.76030048e-01   9.46623916e-01\n",
      "   -1.16960249e+00  -3.19281132e-01   1.10725328e+00  -1.05576139e+00\n",
      "   -2.86999312e-01  -9.00946579e-01  -1.23635611e+00   1.02792145e+00\n",
      "    4.00217994e-01   5.71486389e-01   9.95373224e-01  -8.11046835e-01\n",
      "    1.98915995e+00   1.63467862e+00   2.70350181e-01   5.36178093e-01\n",
      "   -9.27065445e-02   1.06682444e+00   2.32351888e-01  -1.34455195e-03\n",
      "   -3.60464570e-01  -1.34450937e-01   2.89400505e-01   1.12239468e+00\n",
      "   -1.81478568e+00  -2.19411698e+00  -5.85076781e-01   7.13466163e-01\n",
      "   -1.10735865e+00   3.55811541e-01   4.44605388e-01  -2.81427305e-01\n",
      "   -4.85278220e-01   1.34390569e-01   3.08222669e-01  -1.04695003e+00\n",
      "   -3.61628705e-01   2.70816773e-02   9.63444872e-01  -1.78676749e+00\n",
      "    1.07173611e+00   7.97136976e-01  -3.04504437e-01  -2.48164810e-01\n",
      "   -1.61178336e+00   1.46330853e+00  -2.77959717e-01  -2.08338480e+00\n",
      "    8.31651894e-01  -4.26984153e-01   4.47205843e-01   4.05996057e-01\n",
      "    9.24615914e-03  -8.07781346e-01  -9.72113557e-01   5.52095302e-01\n",
      "   -5.21768298e-01   4.16119564e-01  -6.29668049e-01   2.34731153e-01\n",
      "   -8.72395355e-01  -2.19377074e-01  -7.68422688e-02   3.51192896e-01\n",
      "   -1.72535231e+00  -5.38891665e-01   4.04749399e-01   1.84150835e+00\n",
      "   -2.88807310e-01   4.92318359e-01   1.28462695e-02   1.41607727e+00\n",
      "    5.06157678e-01   1.66510716e+00  -2.58432167e-01  -7.33798931e-01\n",
      "   -4.06029880e-01   1.77266996e+00  -9.30029553e-01   2.44600968e+00\n",
      "    2.38455591e-01  -8.96671673e-01  -2.19368139e+00   6.70586653e-01\n",
      "   -9.27821202e-01  -7.66291538e-01   6.01294004e-01  -5.91272400e-01\n",
      "   -9.38379558e-01  -1.12758229e+00  -2.92399447e-01   5.47470258e-01\n",
      "   -5.80414179e-01   1.53707341e+00  -7.46410100e-02   1.50220160e+00\n",
      "    1.41874716e+00  -1.04754803e+00   4.83703900e-01   1.29979818e+00\n",
      "   -6.60998269e-01  -1.19858258e-01   1.11547684e+00   2.47944857e-01\n",
      "   -1.62740327e+00  -1.30915246e+00   6.55526030e-01  -1.62867603e+00\n",
      "    3.64701350e-01   7.95490949e-01   8.37155008e-01   8.50291004e-01\n",
      "   -7.85798883e-01  -8.10934342e-01  -2.35033698e-01   2.12329986e-01\n",
      "   -5.26979340e-01  -2.89028722e-01  -6.10410415e-01   1.07117693e+00\n",
      "    4.00309716e-01   1.07450381e+00  -1.07009005e+00  -2.49121756e-01\n",
      "    1.25917617e+00  -9.42845592e-01   4.21992760e-01   1.36666604e+00\n",
      "    2.27374418e-02  -5.89655432e-01   3.14213183e-01   1.25050181e+00\n",
      "    8.06687957e-01  -1.30547811e+00  -6.65089686e-01  -1.10731821e-01\n",
      "    2.68952798e-01   7.44778698e-01  -7.78511947e-01   2.64240359e-01\n",
      "   -3.87109603e-01   1.52179112e-01  -5.64470404e-01  -1.10991897e+00]]\n",
      " \n",
      " \n",
      " \n",
      "randin is   [[  6.68375445e-02   1.02947012e+00   7.74732171e-01   2.74931580e-01\n",
      "   -9.14072373e-01  -7.53584167e-01  -4.51636928e-01  -2.59664983e-01\n",
      "   -3.61857276e-01  -9.50370424e-01   7.24217530e-01  -2.14507895e-01\n",
      "   -1.67350225e-01  -5.67394318e-01   7.85729440e-01  -1.12467894e+00\n",
      "    4.93827475e-01  -6.18794267e-02   2.41003588e-01  -4.32976700e-01\n",
      "   -1.15900545e+00  -1.06367961e-01  -2.03227244e-01   2.53511068e-01\n",
      "   -1.64557967e-01   3.85948984e-01   1.45035678e+00   5.10359607e-01\n",
      "   -1.40313001e+00   8.18783279e-02   4.26295640e-02   1.28718653e+00\n",
      "    1.93876814e-01  -1.19355695e+00  -3.83254861e-01   8.47720162e-01\n",
      "   -7.79020593e-01   1.80719975e+00   8.04078105e-01   1.38118878e+00\n",
      "    1.00440958e+00   1.04900570e-01  -3.38954113e-01  -5.33371660e-01\n",
      "    1.98194766e+00   5.37569802e-01  -1.17257075e+00  -1.04241745e+00\n",
      "    1.72248196e-01  -4.40822029e-01   2.58663668e-01   5.91505968e-01\n",
      "    1.52565477e+00  -9.39566762e-01   6.02502412e-01  -5.83582032e-01\n",
      "   -9.42045631e-01  -1.08084374e-03  -7.19981747e-01   2.31971424e-01\n",
      "   -1.35262833e+00   3.15914428e-01   1.43280956e+00   4.77262167e-01\n",
      "   -1.95197542e+00  -4.05335359e-01  -3.69695148e-01   6.79830559e-01\n",
      "    1.25095500e+00   4.62474648e-01   4.03478993e-01  -6.44258902e-01\n",
      "    2.74317051e+00   1.39143032e+00   7.38994008e-01  -1.27156043e+00\n",
      "    1.02389606e+00   1.81955564e+00   5.46304820e-01  -6.96663972e-01\n",
      "    8.05242273e-01  -4.53443142e-01  -5.09500586e-02   1.28321957e-02\n",
      "   -1.13582502e+00   5.14832721e-01   1.51479738e-01  -1.44159699e-02\n",
      "    9.39110605e-01   3.51607944e-01  -2.05218970e+00   1.75505261e+00\n",
      "   -5.45763229e-01  -3.91566862e-01   7.82689441e-01  -1.87545127e+00\n",
      "   -1.15215745e+00  -3.25838622e-01   4.00985945e-01  -3.87417663e-01\n",
      "   -5.12489665e-01   5.36779472e-01   7.67085553e-02  -2.02945474e-01\n",
      "   -1.98763394e+00   2.04623556e-01   1.57027687e+00  -1.12507759e-01\n",
      "    8.43283404e-01   1.34749577e+00   9.14580987e-02  -2.62134241e-01\n",
      "   -2.83903818e-01   9.32893111e-02   4.94150658e-01   8.31187240e-01\n",
      "    1.10315131e+00  -8.98935241e-01   1.67455067e+00  -8.03649718e-01\n",
      "    4.06654472e-01  -7.06010157e-01  -2.33541515e-01  -1.40244710e-01\n",
      "   -1.40975525e+00   1.30862130e+00   1.41098935e-01  -5.56494362e-01\n",
      "   -9.89056071e-01   1.43813287e+00  -2.97289419e-01  -6.49658116e-02\n",
      "   -8.67747609e-01  -3.77010613e-01   7.76676633e-01  -7.10248729e-01\n",
      "   -1.40443100e+00   6.42092566e-02  -6.37219659e-01   1.42998345e+00\n",
      "    6.12614118e-01  -1.29519398e+00   7.23200116e-01  -3.19596599e-01\n",
      "   -1.18654533e+00   3.34672604e-01   1.92643714e-01  -2.31389503e-01\n",
      "   -8.22268390e-02   2.59258015e-01  -8.52397221e-01  -2.66114623e-01\n",
      "   -4.63514290e-01  -5.22006081e-01  -1.90022222e+00   1.60727263e+00\n",
      "    2.11450515e-01   1.60739643e-02  -1.03239096e+00   1.07887371e+00\n",
      "   -4.12203431e-01  -1.13353017e-01  -1.03192500e-01   3.33383219e-01\n",
      "    1.17777662e+00   1.77771489e+00   6.47513704e-02  -4.97963413e-01\n",
      "   -1.10049355e+00  -8.55907574e-01  -2.57208176e-01  -4.74686798e-01\n",
      "   -9.06043516e-01   3.05643056e-01   1.13277722e+00  -1.43653988e+00\n",
      "    9.36886868e-02  -4.79594254e-01   4.21082192e-01   1.75667742e-01\n",
      "    1.04413426e+00   2.36367156e-01  -5.75423104e-01  -6.07385495e-01\n",
      "   -1.08602337e+00  -4.61408712e-01  -4.52396676e-02   1.97869002e-01\n",
      "   -2.02654205e-01  -9.07475561e-01  -4.26216301e-01  -6.56153378e-01\n",
      "    2.80333769e-01   1.75316563e+00   4.22943762e-01  -2.96744752e-01\n",
      "   -1.55929431e+00  -2.11720335e-01   9.42997500e-01   1.26300036e+00\n",
      "    8.64299567e-01   4.61355108e-01   9.70127782e-01   7.69413341e-01\n",
      "   -1.88434444e-01  -4.53973304e-01  -1.26684098e-01  -4.57675322e-01\n",
      "   -1.53920306e-01   1.04765504e+00   1.08311111e-01   8.29767145e-01\n",
      "   -1.01755928e-01   1.79340516e+00  -1.43460876e+00  -1.45146846e+00\n",
      "   -1.90968151e-01  -4.13576761e-01   8.72527371e-01  -9.87303506e-01\n",
      "    2.58285684e-01   2.72348417e+00  -1.33696601e-01   1.17043770e-01\n",
      "    1.45491977e+00   1.52643621e+00  -1.55404178e+00   3.46730349e-01\n",
      "   -5.35284156e-01   4.73721603e-01  -1.15628606e+00   4.34672432e-01\n",
      "   -1.97276035e+00   6.30612360e-01   2.93235327e-01   1.07052281e+00\n",
      "    9.66586519e-02  -1.54364339e+00   1.00711764e+00  -2.41141595e-01\n",
      "   -5.11014930e-01   1.86684732e+00  -5.08222336e-01   1.09675956e+00\n",
      "   -9.06307957e-01   2.96186463e-01   3.62596670e-01   2.72554325e+00\n",
      "    1.61827411e+00   1.02750356e+00  -3.79556268e-01   5.06155931e-01\n",
      "    6.68142305e-01  -5.93438184e-01  -5.43960405e-01   1.35701547e-01\n",
      "   -9.53064359e-02  -1.60144193e-01  -8.16819425e-01   1.28868035e+00\n",
      "   -1.17400807e+00   6.82753141e-01   1.64111856e+00  -2.56424481e-01\n",
      "   -1.23001008e+00  -7.18142359e-01   2.04801738e-01   1.67774749e-01\n",
      "   -2.87964022e+00  -7.97609603e-01   5.37073688e-01   1.85862503e-01\n",
      "   -1.27804157e+00  -5.08111140e-01   2.76088207e+00  -7.43631892e-01\n",
      "    7.88232944e-01  -2.31363519e-01  -8.27048115e-01  -9.08566531e-01\n",
      "   -8.73390753e-01  -1.59783431e-01  -9.93591393e-02  -1.20162482e-01\n",
      "   -3.07698860e-01   1.60517526e+00   2.35265870e-01  -3.93163370e-01\n",
      "    7.88361667e-01  -9.13134007e-02  -7.53430422e-01  -3.82591052e-02\n",
      "    2.42870459e+00  -5.69084159e-01  -1.83441305e-03   3.52910498e-03\n",
      "   -1.09759644e+00   1.38438910e+00   5.37388474e-01  -2.95244793e+00\n",
      "   -6.68219271e-01   8.40663468e-01  -1.26744818e+00   2.72045569e+00\n",
      "    1.72704077e+00   5.40633613e-01  -3.13472374e-01  -2.20960687e-01\n",
      "   -3.58857595e-01   2.89239757e-01  -3.64107820e-01  -8.24582996e-01\n",
      "    4.94330845e-01   1.33407608e+00  -4.18196319e-01  -3.96943270e-01\n",
      "    3.23984808e-01   3.33310861e-01  -2.71573886e-01   4.51944214e-01\n",
      "    7.55558739e-01   1.74341492e+00  -1.28019764e-01   7.62337827e-01\n",
      "    1.98580257e-01   1.08161292e+00   1.30527630e+00  -1.93535711e-01\n",
      "    3.54383575e-01  -1.30800595e-01   7.92383381e-01   1.21272187e+00\n",
      "   -9.53719444e-01   9.11748530e-01  -2.28142121e-01   7.50515433e-01\n",
      "   -7.84525465e-01   3.02854288e-01  -4.87539224e-01  -1.47802676e-01\n",
      "   -2.68735178e-01  -9.18563379e-01   1.23919599e+00   2.63779395e+00\n",
      "   -6.27155595e-01  -2.41107614e-01   6.40583033e-01  -1.79729531e+00\n",
      "    3.74049741e-02   2.58665595e-02   1.08935727e+00   1.45926148e-01\n",
      "    1.17450798e+00   7.42302171e-02   1.19880918e-01  -8.69794541e-01\n",
      "   -1.09108744e+00  -9.00964950e-01   6.40118780e-02  -4.78070220e-01\n",
      "   -9.79961545e-02  -5.87556112e-01  -1.66346155e-01   1.59778477e-01\n",
      "   -6.36215202e-01  -1.11079537e-01   2.27319368e+00  -6.01468468e-01\n",
      "   -8.18141699e-01   5.78658308e-01   2.03679583e-01   8.27234018e-01\n",
      "    1.61191430e-01  -1.98447945e-01   1.18937967e+00  -1.81266468e+00\n",
      "    8.77150693e-01  -9.08856168e-01  -5.27654530e-01  -9.29764605e-02\n",
      "    7.25071703e-01   4.60348322e-01  -7.78716041e-01  -1.86446809e+00\n",
      "   -1.93049940e+00   8.46557033e-01  -6.58086575e-01  -9.53458862e-01\n",
      "    9.30383255e-01   5.31705972e-01   7.67286882e-01   9.55354303e-01\n",
      "    5.39780498e-01   5.21748917e-01  -1.18570704e+00  -1.10567385e+00\n",
      "    1.56631785e+00   6.80103626e-01   7.52089100e-01   8.34568684e-01\n",
      "    9.51305134e-02  -1.09418347e+00   9.99663421e-01  -6.26808276e-01\n",
      "    1.41307392e+00   2.90017257e-01  -3.80930775e-01  -1.52359415e+00\n",
      "   -2.27922124e+00  -1.08777658e+00  -3.76238973e-02  -7.74714137e-01\n",
      "   -2.64589178e-01   1.42402644e+00   9.23586570e-01   7.13529592e-01\n",
      "   -1.26917519e-01  -1.07902560e+00   7.77967374e-01  -1.34310912e+00\n",
      "   -1.12098956e-01   7.69229057e-01  -6.67859699e-01  -6.18997617e-01\n",
      "   -4.89373448e-01  -2.00012093e-01  -7.92774776e-01   6.56048780e-01\n",
      "   -9.04921651e-02  -4.52712441e-02  -9.09195809e-01   2.22262864e+00\n",
      "    3.07380989e-01  -1.44556897e-01   1.44986987e+00   2.24110033e-01\n",
      "   -8.74683306e-01  -1.68579665e+00   5.31060155e-01   1.90166225e-01\n",
      "   -3.75157403e-01  -9.43205164e-01  -5.95632987e-01   1.24984931e-01\n",
      "   -1.64766257e+00  -1.47423677e+00  -5.42705017e-01  -1.03790150e+00\n",
      "    2.07277980e-01  -1.15487727e+00   1.57728855e+00   8.38043487e-01\n",
      "   -1.17096263e+00  -1.22289007e+00  -1.03413859e+00   4.72124919e-01\n",
      "   -7.84072775e-02  -5.52366733e-01  -1.77231495e+00   1.50336984e+00\n",
      "    2.18033829e-01   8.79816218e-01   1.57789964e+00  -6.41746231e-01\n",
      "   -8.37291419e-01  -1.26018157e+00   5.00382477e-01  -5.01385447e-01\n",
      "    5.51282032e-01   1.28952048e-01  -1.33249874e+00  -1.19241569e+00\n",
      "   -2.08625281e+00   1.31943735e+00  -8.29365153e-02  -1.30988466e+00\n",
      "    5.16586294e-01   1.91276889e+00   7.83325607e-01   1.29045053e+00\n",
      "   -7.99038286e-01  -2.36767971e+00  -1.07631022e+00  -6.80000337e-01\n",
      "    1.11381626e+00  -6.09124805e-01  -1.31199203e-01   3.80070445e-01\n",
      "   -7.56536711e-01  -1.94224052e-01  -7.39634545e-02  -3.20530733e-01\n",
      "    4.94493503e-01   5.14757100e-01  -3.50411968e-02  -9.56686484e-01\n",
      "    8.55347406e-01   2.99477014e-01  -4.68318037e-01   3.64409929e-01\n",
      "   -1.21024118e+00  -1.88382205e+00   9.43742181e-01   1.30750569e+00\n",
      "    1.32324005e+00   1.53401882e-01   1.19588383e+00  -2.55614475e-02\n",
      "    5.53914824e-02  -9.32645533e-03  -8.96027324e-01  -3.85203577e-01\n",
      "    1.08839314e-01  -8.97770904e-01   5.89883817e-01  -1.26364763e+00\n",
      "   -6.51360608e-01   2.17275648e-01  -2.94338086e-01   6.43814419e-01\n",
      "   -1.58741722e+00   2.11541842e-01   1.26649022e+00   5.53113173e-02\n",
      "    1.74843502e+00   7.44669911e-01   7.23427096e-01   4.37204793e-01\n",
      "   -1.28029225e+00   8.93573589e-01  -3.49001557e-01  -1.15815539e+00\n",
      "    2.19210328e-01   2.62369572e-02   2.37246761e-02  -7.76036137e-01\n",
      "    1.75365773e+00   4.44934545e-01   6.94851452e-01  -3.13833839e-01\n",
      "    1.00226584e+00   3.76232557e-02  -4.61104255e-01  -1.98954295e-01\n",
      "    2.08920067e+00  -1.69567845e+00  -4.66975103e-03   6.50119320e-02\n",
      "   -4.23919148e-01  -6.57539085e-01   5.54618274e-02  -8.01873668e-02\n",
      "   -1.39879084e+00   2.45594743e+00  -3.86880294e-01   1.66303975e-01\n",
      "    1.37504416e+00  -2.21843714e-01   7.32243221e-01   8.12020701e-01\n",
      "    1.11694436e+00   1.25105085e+00  -3.05362101e+00  -7.42716666e-02\n",
      "   -2.01052036e-01  -1.70037663e+00   3.64439368e-02  -2.29186935e-01\n",
      "    1.40500373e-01   2.57663972e+00   2.94923790e-01   5.29016406e-01\n",
      "    1.33628414e+00  -8.85039081e-01  -4.06088709e-01   3.52309855e-01\n",
      "   -9.12318842e-01  -1.45984441e-01   2.03418335e+00   1.39230676e+00\n",
      "   -1.10724312e+00   1.21056566e+00   5.27803137e-01   4.55442376e-02\n",
      "   -8.07027393e-01   3.83642140e-01  -2.03210795e+00   2.77496303e-01\n",
      "   -1.26438479e+00   4.90024830e-01   3.38616716e-01  -1.48122725e-01\n",
      "    9.36495494e-01   9.57521044e-01   2.02638042e+00  -4.59468037e-01\n",
      "   -3.78786160e-01  -4.10638177e-01  -2.16197959e-01   4.30692852e-01\n",
      "   -6.42926403e-01   1.69187494e+00   5.35275208e-01  -1.58811053e+00\n",
      "   -3.43848374e-01   1.96562969e+00  -9.34901827e-02  -1.24597017e+00\n",
      "   -5.83860086e-01  -6.72598386e-03  -3.79493752e-03   8.84880088e-01\n",
      "    1.01124005e+00  -3.09907729e-01   4.09851189e-01   1.80583363e+00\n",
      "    1.26777085e-01  -8.32731645e-02   5.45980311e-01   2.96925303e-01\n",
      "   -1.16271584e+00  -1.09480256e+00  -1.29727122e-01   1.07235359e-01\n",
      "   -2.22700310e-01   1.02480459e+00   2.29626939e-01  -2.46813331e-01\n",
      "   -1.29487797e-01   8.16742715e-01  -6.43281699e-01   1.45725628e+00\n",
      "   -1.53927299e+00  -1.08799663e+00  -1.45266432e-01  -7.09129793e-01\n",
      "    2.37070862e-01   5.61062024e-01  -1.61617858e+00  -2.28677319e-01\n",
      "    1.24743827e+00   4.64544988e-01  -1.35905899e+00  -5.14745918e-01\n",
      "    1.04231050e+00  -6.18672423e-01   1.83134327e-01  -1.09259045e-01\n",
      "   -5.75533384e-01  -2.17254082e+00  -5.33190864e-02  -1.19112813e+00\n",
      "    3.55988595e-01  -1.14723024e+00  -1.50941421e-01   1.71591689e+00\n",
      "    1.29698195e+00  -1.11364653e+00  -1.47137088e-01  -8.69758588e-02\n",
      "    1.85647197e+00   1.42279054e-01   4.03199497e-01  -1.27181231e-01\n",
      "    9.81625062e-01   2.97039909e-01  -4.52545004e-01   6.26278608e-01\n",
      "   -1.68974998e+00  -5.59845456e-01   1.62708427e+00   1.99655424e-01\n",
      "    1.51914093e+00   3.83950594e-01   2.25502266e+00  -2.15501348e-01\n",
      "    4.67691295e-01  -4.42181044e-01   2.41165544e-01   2.12329025e-01\n",
      "    5.92822246e-01   2.40216322e+00   8.21716472e-01  -1.50860860e+00\n",
      "    7.98597758e-01  -6.55282597e-01  -5.35963607e-01   5.55295202e-01\n",
      "    4.79198962e-01  -2.25883548e+00   2.36664333e+00   4.65872637e-01\n",
      "    2.17572982e-01  -3.45295052e-01  -4.11089528e-01   3.34932999e-01\n",
      "   -9.84647181e-02   1.46012687e+00  -1.63299980e+00  -1.86673711e+00\n",
      "    6.72219197e-01   1.90582378e-01   2.43868100e-01  -5.20934197e-01\n",
      "   -1.47180026e-01  -8.66892668e-01  -3.64601218e-01  -6.99102054e-01\n",
      "   -1.21212219e+00   6.22856265e-01   6.16478852e-02  -1.82439422e+00\n",
      "    5.39176904e-01   1.81890768e+00  -5.88902774e-01   1.50371694e+00\n",
      "   -5.83341302e-01   2.13022738e-01   1.16540735e+00  -4.16931914e-01\n",
      "   -1.05365308e+00   8.45541684e-01  -1.00005578e+00   4.55457825e-02\n",
      "    3.97628352e-01  -4.11756172e-01  -1.21450154e+00  -2.39921929e-01\n",
      "   -2.52788270e-01  -4.00984716e-01  -9.66433559e-01   2.21282609e+00\n",
      "    6.95516993e-02  -8.62176087e-01   1.11578577e+00  -6.68937997e-01\n",
      "   -2.00313573e+00   9.87808095e-02  -3.09642492e-01   5.44207946e-01\n",
      "   -3.68328694e-02   1.77376935e-01  -4.98748424e-01  -1.31118102e+00\n",
      "   -7.61451702e-01  -1.62248083e-01   1.13321939e+00  -6.58477371e-01\n",
      "   -1.03184844e+00   1.31602529e+00  -5.83747112e-01  -1.33657060e+00\n",
      "   -5.35602343e-01  -1.62653455e-01   2.27578377e-01  -4.80160092e-01\n",
      "    2.18919364e-01  -3.40053193e-01  -7.72480094e-02   6.26658940e-01\n",
      "    1.08044293e+00   7.74269289e-01  -1.84284824e-02  -2.74552260e+00\n",
      "    1.99627305e+00   8.53923206e-02   2.74494939e-01  -1.60166667e+00\n",
      "    4.12438885e-01  -1.35322150e-01   3.81636250e-01  -1.35167577e+00\n",
      "    3.88650179e-01  -1.68386775e-01   1.75355313e+00   1.91933106e+00\n",
      "   -4.07073667e-01  -8.43289539e-02  -1.26951534e+00  -1.03075820e-01\n",
      "   -7.53410739e-01   1.91548333e+00  -6.63096142e-01  -2.19557186e+00\n",
      "   -2.89504588e-01  -1.22967161e+00   7.17825183e-01   1.00203531e+00\n",
      "    8.74991043e-01  -6.52351021e-01  -3.54392554e-01   1.97939797e+00\n",
      "    1.53809652e-01   7.82399986e-01   2.01969793e+00  -2.15173853e+00\n",
      "   -4.68480389e-01   3.67519287e-01   1.37277141e+00  -6.97097925e-01\n",
      "   -7.46876936e-01  -1.36596295e+00  -1.44370573e-01   1.32049677e-01\n",
      "   -3.42668805e-01  -1.96097702e-01  -9.40866034e-01   1.99217875e+00\n",
      "    9.47579705e-01   2.53857680e-02  -7.29378012e-01   6.81430592e-01\n",
      "    3.79604608e-01   1.02113557e+00   9.55138596e-01   2.08266570e-01\n",
      "   -1.51984711e+00  -5.00567211e-02   4.49861993e-01   5.58127040e-01\n",
      "    4.83605619e-01   1.80215853e+00  -2.84111246e-01   1.33594022e+00\n",
      "    9.76934520e-01  -1.80140103e+00  -9.22014681e-01   1.31618906e-01\n",
      "   -9.52666481e-01   2.18834037e+00   4.60606655e-01  -3.94316093e-01\n",
      "    1.03423695e+00  -3.52964186e-01   9.90057406e-01  -2.67795611e-01\n",
      "   -7.34062675e-01  -3.52453967e-01  -1.19775322e+00  -1.20616549e+00\n",
      "    1.91180986e+00  -2.87404835e-01  -1.46942778e-01  -5.63703004e-01\n",
      "    5.82407628e-01   1.02220362e+00   6.21617770e-02   1.35008122e+00\n",
      "   -2.18418487e+00   4.46420015e-01  -3.05885942e-01   1.26753215e+00\n",
      "   -2.02717736e-01  -5.08142278e-01  -3.76030048e-01   9.46623916e-01\n",
      "   -1.16960249e+00  -3.19281132e-01   1.10725328e+00  -1.05576139e+00\n",
      "   -2.86999312e-01  -9.00946579e-01  -1.23635611e+00   1.02792145e+00\n",
      "    4.00217994e-01   5.71486389e-01   9.95373224e-01  -8.11046835e-01\n",
      "    1.98915995e+00   1.63467862e+00   2.70350181e-01   5.36178093e-01\n",
      "   -9.27065445e-02   1.06682444e+00   2.32351888e-01  -1.34455195e-03\n",
      "   -3.60464570e-01  -1.34450937e-01   2.89400505e-01   1.12239468e+00\n",
      "   -1.81478568e+00  -2.19411698e+00  -5.85076781e-01   7.13466163e-01\n",
      "   -1.10735865e+00   3.55811541e-01   4.44605388e-01  -2.81427305e-01\n",
      "   -4.85278220e-01   1.34390569e-01   3.08222669e-01  -1.04695003e+00\n",
      "   -3.61628705e-01   2.70816773e-02   9.63444872e-01  -1.78676749e+00\n",
      "    1.07173611e+00   7.97136976e-01  -3.04504437e-01  -2.48164810e-01\n",
      "   -1.61178336e+00   1.46330853e+00  -2.77959717e-01  -2.08338480e+00\n",
      "    8.31651894e-01  -4.26984153e-01   4.47205843e-01   4.05996057e-01\n",
      "    9.24615914e-03  -8.07781346e-01  -9.72113557e-01   5.52095302e-01\n",
      "   -5.21768298e-01   4.16119564e-01  -6.29668049e-01   2.34731153e-01\n",
      "   -8.72395355e-01  -2.19377074e-01  -7.68422688e-02   3.51192896e-01\n",
      "   -1.72535231e+00  -5.38891665e-01   4.04749399e-01   1.84150835e+00\n",
      "   -2.88807310e-01   4.92318359e-01   1.28462695e-02   1.41607727e+00\n",
      "    5.06157678e-01   1.66510716e+00  -2.58432167e-01  -7.33798931e-01\n",
      "   -4.06029880e-01   1.77266996e+00  -9.30029553e-01   2.44600968e+00\n",
      "    2.38455591e-01  -8.96671673e-01  -2.19368139e+00   6.70586653e-01\n",
      "   -9.27821202e-01  -7.66291538e-01   6.01294004e-01  -5.91272400e-01\n",
      "   -9.38379558e-01  -1.12758229e+00  -2.92399447e-01   5.47470258e-01\n",
      "   -5.80414179e-01   1.53707341e+00  -7.46410100e-02   1.50220160e+00\n",
      "    1.41874716e+00  -1.04754803e+00   4.83703900e-01   1.29979818e+00\n",
      "   -6.60998269e-01  -1.19858258e-01   1.11547684e+00   2.47944857e-01\n",
      "   -1.62740327e+00  -1.30915246e+00   6.55526030e-01  -1.62867603e+00\n",
      "    3.64701350e-01   7.95490949e-01   8.37155008e-01   8.50291004e-01\n",
      "   -7.85798883e-01  -8.10934342e-01  -2.35033698e-01   2.12329986e-01\n",
      "   -5.26979340e-01  -2.89028722e-01  -6.10410415e-01   1.07117693e+00\n",
      "    4.00309716e-01   1.07450381e+00  -1.07009005e+00  -2.49121756e-01\n",
      "    1.25917617e+00  -9.42845592e-01   4.21992760e-01   1.36666604e+00\n",
      "    2.27374418e-02  -5.89655432e-01   3.14213183e-01   1.25050181e+00\n",
      "    8.06687957e-01  -1.30547811e+00  -6.65089686e-01  -1.10731821e-01\n",
      "    2.68952798e-01   7.44778698e-01  -7.78511947e-01   2.64240359e-01\n",
      "   -3.87109603e-01   1.52179112e-01  -5.64470404e-01  -1.10991897e+00]]\n"
     ]
    }
   ],
   "source": [
    "# We can also use numpy to generate random values.\n",
    "randn = np.random.randn(1, 1000)\n",
    "# print the shape of randn\n",
    "#<------------INSERT CODE HERE------------>\n",
    "print(randn)\n",
    "\n",
    "# print the first 10 elements of randn. What happens if you re-run this code?\n",
    "#<------------INSERT CODE HERE------------>\n",
    "print(\" \")\n",
    "print(\" \")\n",
    "print(\" \")\n",
    "print(\"randin is  \", randn[0:10])"
   ]
  },
  {
   "cell_type": "code",
   "execution_count": null,
   "metadata": {
    "collapsed": true
   },
   "outputs": [],
   "source": [
    "np.seed(23)\n",
    "\n",
    "# Generate a new array of random numbers, this time of shape (3, 2) and print it.\n",
    "# What happens when you re-run the code now?\n",
    "# TIP: you might want to save the result to compare the previous and the new one\n",
    "\n",
    "#<------------INSERT CODE HERE------------>\n",
    "\n",
    "\n",
    "# Think: what does np.seed() do? (Use Google if you don't know!)"
   ]
  },
  {
   "cell_type": "markdown",
   "metadata": {},
   "source": [
    "#### Combine arrays"
   ]
  },
  {
   "cell_type": "code",
   "execution_count": 55,
   "metadata": {},
   "outputs": [
    {
     "name": "stdout",
     "output_type": "stream",
     "text": [
      "(2, 4)\n",
      "(2, 4)\n",
      "  \n",
      " When axis is zero  \n",
      "[[1 2 3 4]\n",
      " [1 2 3 4]\n",
      " [5 6 7 8]\n",
      " [5 6 7 8]]\n",
      "Shape of Cat (4, 4)\n",
      "  \n",
      " When axis is one  \n",
      "[[1 2 3 4 5 6 7 8]\n",
      " [1 2 3 4 5 6 7 8]]\n",
      "Shape of Cat (2, 8)\n",
      "  \n",
      " When stack arrays are vertical  \n",
      "[[1 2 3 4]\n",
      " [1 2 3 4]\n",
      " [5 6 7 8]\n",
      " [5 6 7 8]]\n",
      "Shape of Cat (4, 4)\n",
      "  \n",
      " When stack arrays are Horizontal  \n",
      "[[1 2 3 4 5 6 7 8]\n",
      " [1 2 3 4 5 6 7 8]]\n",
      "Shape of Cat (2, 8)\n"
     ]
    }
   ],
   "source": [
    "arr1 = np.array([[1, 2, 3, 4], [1, 2, 3, 4]])\n",
    "arr2 = np.array([[5, 6, 7, 8], [5, 6, 7 , 8]])\n",
    "\n",
    "# Print the shapes of arr1 and arr2 and cat after each of the types of concatenations.\n",
    "# Concatenating arrays is a very common operation. Make sure you understand it!\n",
    "# TIP: it might help you to print the actual cat array after each type of concatenation too\n",
    "\n",
    "#<------------INSERT CODE HERE------------>\n",
    "print(arr1.shape)\n",
    "print(arr2.shape)\n",
    "\n",
    "# concatenate along the row\n",
    "cat = np.concatenate((arr1, arr2), axis=0)\n",
    "#<------------INSERT CODE HERE------------>\n",
    "print(\"  \")\n",
    "print(\" When axis is zero  \")\n",
    "print(cat)\n",
    "print(\"Shape of Cat\", cat.shape)\n",
    "\n",
    "# concatenate along the column\n",
    "cat = np.concatenate((arr1, arr2), axis=1)    \n",
    "#<------------INSERT CODE HERE------------>\n",
    "\n",
    "print(\"  \")\n",
    "print(\" When axis is one  \")\n",
    "print(cat)\n",
    "print(\"Shape of Cat\", cat.shape)\n",
    "\n",
    "# stack arrays vertically\n",
    "cat = np.vstack((arr1, arr2))\n",
    "#<------------INSERT CODE HERE------------>\n",
    "print(\"  \")\n",
    "print(\" When stack arrays are vertical  \")\n",
    "print(cat)\n",
    "print(\"Shape of Cat\", cat.shape)\n",
    "\n",
    "# stack arrays horizontally\n",
    "cat = np.hstack((arr1, arr2))\n",
    "#<------------INSERT CODE HERE------------>\n",
    "print(\"  \")\n",
    "print(\" When stack arrays are Horizontal  \")\n",
    "print(cat)\n",
    "print(\"Shape of Cat\", cat.shape)\n"
   ]
  },
  {
   "cell_type": "markdown",
   "metadata": {},
   "source": [
    "#### Operations with arrays"
   ]
  },
  {
   "cell_type": "code",
   "execution_count": 57,
   "metadata": {
    "collapsed": true
   },
   "outputs": [],
   "source": [
    "#Let's create a couple of vectors using numpy\n",
    "v1 = np.array([20, 30, 40, 50])\n",
    "v2 = np.arange(4)\n",
    "\n",
    "#And a couple of matrices\n",
    "mat1 = np.array([[1, 2, 3, 4], [1, 2, 3, 4]])\n",
    "mat2 = mat1.T # this is the transpose of mat1"
   ]
  },
  {
   "cell_type": "code",
   "execution_count": 60,
   "metadata": {},
   "outputs": [
    {
     "name": "stdout",
     "output_type": "stream",
     "text": [
      "[35 45 55 65]\n",
      "[35 45 55 65]\n",
      "[[1 1]\n",
      " [2 2]\n",
      " [3 3]\n",
      " [4 4]]\n",
      "[[2368 2368]\n",
      " [2369 2369]\n",
      " [2370 2370]\n",
      " [2371 2371]]\n"
     ]
    }
   ],
   "source": [
    "# Add a number to an array of 1-D (i.e., a vector)\n",
    "print(5 + v1)\n",
    "print(vector_plus_num(v1,5))\n",
    "# Compare the line above to your function vector_plus_num(vector, number) from Part 1.\n",
    "\n",
    "# Does your function work with matrices?\n",
    "#  From obtained results, the 2 functions work the same.\n",
    "\n",
    "# How do you add a number to a np.array object? Try adding 2367 to mat1\n",
    "\n",
    "#<------------INSERT CODE HERE------------>\n",
    "print(mat2)\n",
    "print(2367 + mat1.T)\n"
   ]
  },
  {
   "cell_type": "code",
   "execution_count": 64,
   "metadata": {},
   "outputs": [
    {
     "name": "stdout",
     "output_type": "stream",
     "text": [
      "Adding two vectors [35 46 57 68]\n",
      "Subtracting two vectors [35 44 53 62]\n",
      "[5 5 5]\n",
      "[ 0.          1.          1.41421356  1.73205081]\n",
      "log of vector v1 [ 3.55534806  3.80666249  4.00733319  4.17438727]\n"
     ]
    }
   ],
   "source": [
    "# Let's try to add and subtract vectors now:\n",
    "print(\"Adding two vectors\", v1 + v2)\n",
    "print(\"Subtracting two vectors\", v1 - v2)\n",
    "\n",
    "# What happens if you try to add two vectors of different length?\n",
    "\n",
    "vectord = np.array([2,2,2])\n",
    "#vectore = np.array([3,3,3,3,3,3,3])\n",
    "vectore = np.array([3,3,3])\n",
    "print(vectore + vectord)\n",
    "\n",
    "# Observed is that adding vectors of different lengths throws error\n",
    "\n",
    "# Square root of each elemnt of v2:\n",
    "print(np.sqrt(v2))\n",
    "\n",
    "# Calculate the logarithm of each element of v1\n",
    "# TIP: check if you can do this using some numpy function!\n",
    "\n",
    "#<------------INSERT CODE HERE------------>\n",
    "print(\"log of vector v1\",np.log(v1))\n"
   ]
  },
  {
   "cell_type": "markdown",
   "metadata": {},
   "source": [
    "### Multiplication of vectors\n",
    "\n",
    "There are a number of functions in numpy that you can use to multiply vectors and matrices.\n",
    "\n",
    "Scalar product of two vectors: np.dot(vector1, vector2)\n",
    "\n",
    "Vector product of two vectors: np.cross(x, y)"
   ]
  },
  {
   "cell_type": "code",
   "execution_count": 86,
   "metadata": {},
   "outputs": [
    {
     "name": "stdout",
     "output_type": "stream",
     "text": [
      "The result is the same\n",
      "36.889438492\n",
      "36.889438492\n",
      "0.0015022754669189453\n",
      "36.889438492\n",
      "0.00013971328735351562\n"
     ]
    }
   ],
   "source": [
    "# Calculate the scalar product of v1 and v2 using your function from part 1 and the numpy function.\n",
    "#<------------INSERT CODE HERE------------>\n",
    "\n",
    "#The scalar product using numpy\n",
    "\n",
    "numpy_scalar_product = np.dot(v1,v2)\n",
    "\n",
    "#The scalar product using part 1 method\n",
    "\n",
    "common_scalar_product = scalar_product(v1,v2)\n",
    "\n",
    "# Check if the result is the same using your function from Part 1\n",
    "\n",
    "#<------------INSERT CODE HERE------------>\n",
    "\n",
    "if(numpy_scalar_product == common_scalar_product):\n",
    "    print(\"The result is the same\")\n",
    "    \n",
    "else:\n",
    "    print(\"The result differs from the one obtained from part 1\")\n",
    "\n",
    "v3 = np.random.randn(4000)\n",
    "v4 = np.random.randn(4000)\n",
    "# Calculate the scalar product of v3 and v4 using your function from part 1 and the numpy function.\n",
    "#numpy_scalar_product1 = np.dot(v3,v4)\n",
    "#print(numpy_scalar_product1)\n",
    "\n",
    "common_scalar_product1 = scalar_product(v3,v4)\n",
    "print(common_scalar_product1)\n",
    "\n",
    "# Compare the time it takes to execute each of them.\n",
    "# HINT: https://stackoverflow.com/questions/7370801/measure-time-elapsed-in-python\n",
    "\n",
    "#<------------INSERT CODE HERE------------>\n",
    "# Code for timinmg borrowed from link provided in the exercise\n",
    "import time\n",
    "\n",
    "start = time.time()\n",
    "common_scalar_product1 = scalar_product(v3,v4)\n",
    "print(common_scalar_product1)\n",
    "end = time.time()\n",
    "print(end - start)\n",
    "\n",
    "start = time.time()\n",
    "numpy_scalar_product1 = np.dot(v3,v4)\n",
    "print(numpy_scalar_product1)\n",
    "end = time.time()\n",
    "print(end - start)\n",
    "\n",
    "\n",
    "# Observed is that numpy took relatively shorter time to execute the calculation."
   ]
  },
  {
   "cell_type": "code",
   "execution_count": null,
   "metadata": {
    "collapsed": true
   },
   "outputs": [],
   "source": [
    "# Calculate the vector product of v1 and v2 using the numpy function.\n",
    "\n",
    "#<------------INSERT CODE HERE------------>"
   ]
  },
  {
   "cell_type": "markdown",
   "metadata": {},
   "source": [
    "### Matrix multiplication\n",
    "\n",
    "This can be done on numpy using: np.matmul(a, b)"
   ]
  },
  {
   "cell_type": "code",
   "execution_count": null,
   "metadata": {
    "collapsed": true
   },
   "outputs": [],
   "source": [
    "# Check the result of multiplying mat1 and mat2 using the numpy function and the one you created in part 1.\n",
    "# Check the execution time for each of them. Which one is faster? \n",
    "\n",
    "#<------------INSERT CODE HERE------------>\n",
    "\n",
    "# Is it the same result?\n",
    "\n",
    "#<------------INSERT CODE HERE------------>"
   ]
  },
  {
   "cell_type": "markdown",
   "metadata": {},
   "source": [
    "**Plotting a function**"
   ]
  },
  {
   "cell_type": "code",
   "execution_count": null,
   "metadata": {
    "collapsed": true
   },
   "outputs": [],
   "source": [
    "import matplotlib.pyplot as plt"
   ]
  },
  {
   "cell_type": "code",
   "execution_count": null,
   "metadata": {
    "collapsed": true
   },
   "outputs": [],
   "source": [
    "plt.figure()\n",
    "plt.plot(t, sin)\n",
    "plt.xlabel(\"Time\")\n",
    "plt.ylabel(\"sin(1/4*pi*t)\")\n",
    "plt.title(\"Sinusoidal function\")\n",
    "plt.show()"
   ]
  },
  {
   "cell_type": "code",
   "execution_count": null,
   "metadata": {
    "collapsed": true
   },
   "outputs": [],
   "source": [
    "print(np.max(sin))\n",
    "print(np.min(sin))\n",
    "\n",
    "## Elementwise minimum and maximum\n",
    "arr1 = np.array([1, 3, 5, 7, 9])\n",
    "arr2 = np.array([0, 4, 3, 8, 7])\n",
    "print(np.maximum(arr1, arr2))\n",
    "print(np.minimum(arr1, arr2))"
   ]
  },
  {
   "cell_type": "code",
   "execution_count": null,
   "metadata": {
    "collapsed": true,
    "scrolled": true
   },
   "outputs": [],
   "source": [
    "# Statistical summaries \n",
    "\n",
    "print(np.mean(randn))\n",
    "print(np.median(randn))\n",
    "print(np.std(randn))\n",
    "\n"
   ]
  },
  {
   "cell_type": "markdown",
   "metadata": {},
   "source": [
    "Create a 5 (channels) x 100 (samples) matrix of random integers between 0 and 543 and retrieve the following information:\n",
    "    - the max, min, mean of all samples.\n",
    "    - the mean and variance of each channel\n"
   ]
  },
  {
   "cell_type": "code",
   "execution_count": null,
   "metadata": {
    "collapsed": true
   },
   "outputs": [],
   "source": [
    "#<------------INSERT CODE HERE------------>"
   ]
  },
  {
   "cell_type": "markdown",
   "metadata": {},
   "source": [
    "Use the function hist() from matplotlib to show the histogram of values of the third channel."
   ]
  },
  {
   "cell_type": "code",
   "execution_count": null,
   "metadata": {
    "collapsed": true
   },
   "outputs": [],
   "source": [
    "#<------------INSERT CODE HERE------------>"
   ]
  }
 ],
 "metadata": {
  "kernelspec": {
   "display_name": "Python 3",
   "language": "python",
   "name": "python3"
  },
  "language_info": {
   "codemirror_mode": {
    "name": "ipython",
    "version": 3
   },
   "file_extension": ".py",
   "mimetype": "text/x-python",
   "name": "python",
   "nbconvert_exporter": "python",
   "pygments_lexer": "ipython3",
   "version": "3.5.2"
  }
 },
 "nbformat": 4,
 "nbformat_minor": 2
}
